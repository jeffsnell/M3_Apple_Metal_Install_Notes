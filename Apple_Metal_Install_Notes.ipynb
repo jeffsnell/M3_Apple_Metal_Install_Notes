{
 "cells": [
  {
   "cell_type": "markdown",
   "id": "5a45e408-feb9-4d7a-8de5-a28a3acc2ce4",
   "metadata": {},
   "source": [
    "# Installing TensorFlow and Apple Metal GPU Support on Apple M3\n",
    "\n",
    "The Apple M3 GPU delivers very good performance (not demonstrated here) when used to implement ML models using TensorFlow / TensorFlow-Hub / Keras.\n",
    "\n",
    "This notebook documents one way that I have found to install the necessary software. This uses **conda** and assumes that you have that installed before you start. This uses **Jupyter Lab**, but it is not required to use Apple Metal.\n",
    "\n",
    "There are three steps to this process:\n",
    "\n",
    "1. Create and activate an environment\n",
    "2. Install the packages\n",
    "3. Install & start Jupyter Lab\n",
    "4. Check the software"
   ]
  },
  {
   "cell_type": "markdown",
   "id": "a4769836-914d-4530-911f-49c1e487c812",
   "metadata": {},
   "source": [
    "## 1. Create and activate a **conda** environment\n",
    "\n",
    "NOTE: This step is performed in a (unix) shell, use the **terminal** app on the Mac to open a shell window."
   ]
  },
  {
   "cell_type": "markdown",
   "id": "184d6e62-26ab-4bae-8ec5-0cdd18df8148",
   "metadata": {},
   "source": [
    "* Create a folder and `cd` into the folder; insert your own name for `new_project_folder`\n",
    "\n",
    ">mkdir `new_project_dir`\n",
    "\n",
    ">cd `new_project_dir`\n"
   ]
  },
  {
   "cell_type": "markdown",
   "id": "a8f04923-54d4-4f01-8582-0cc3d8467b8c",
   "metadata": {},
   "source": [
    "* Create an environment with `conda`\n",
    "\n",
    ">conda create --prefix ./env pandas numpy matplotlib scikit-learn\n"
   ]
  },
  {
   "cell_type": "markdown",
   "id": "f7fdb069-51ac-4528-becb-3196d555a873",
   "metadata": {},
   "source": [
    "* Activate the environment with `conda` - instructions for activation will have been output when the environment was created\n",
    "\n",
    ">conda activate `/path-to-folder/env`\n"
   ]
  },
  {
   "cell_type": "markdown",
   "id": "88fa54cd-fbeb-4dbd-a74c-d903b804326f",
   "metadata": {},
   "source": [
    "## 2. Install the packages\n",
    "\n",
    "NOTE: This step is performed in a (unix) shell, with `conda` environment active"
   ]
  },
  {
   "cell_type": "markdown",
   "id": "6f32ef89-c7df-4b1d-948f-bc762f23cc5b",
   "metadata": {},
   "source": [
    "* Install `python` version 3.10; my experience is that python version <3.11 is required\n",
    "\n",
    ">conda install python==3.10\n"
   ]
  },
  {
   "cell_type": "markdown",
   "id": "d1152b7c-cf4b-4dc1-9751-afc36ac7954e",
   "metadata": {},
   "source": [
    "## Regarding tensorflow-macos\n",
    "\n",
    "Many instructions for installing Metal on MacOs I found tell you to install TensorFlow with:\n",
    "\n",
    ">python -m pip install tensorflow-macos\n",
    "\n",
    "The TensorFlow 2.16 documentation states:\n",
    "\n",
    ">If you previously installed TensorFlow using pip install tensorflow-macos, please update your installation method. Use pip install tensorflow from now on. tensorflow-macos package will no longer receive updates. Future updates will be released to tensorflow."
   ]
  },
  {
   "cell_type": "markdown",
   "id": "b1588123-2444-4b63-a62c-580f3b8b250d",
   "metadata": {},
   "source": [
    "* Install TensorFlow & Apple Metal packages\n",
    "\n",
    ">conda install -c apple tensorflow-deps\n",
    "\n",
    "FOR TensorFlow with specific version\n",
    ">pip install tensorflow==VERSION\n",
    "\n",
    "FOR Newest TensorFlow (presently 2.16.x)\n",
    ">pip install tensorflow\n",
    "\n",
    "Now install TensorFlow-Metal with:\n",
    ">python -m pip install tensorflow-metal\n"
   ]
  },
  {
   "cell_type": "markdown",
   "id": "ceb9d77c-f2ea-4df6-af32-4eccb4917dde",
   "metadata": {},
   "source": [
    "## 3. Install & start Jupyter Lab\n",
    "\n",
    "NOTE: This step is performed in a (unix) shell, with `conda` environment active"
   ]
  },
  {
   "cell_type": "markdown",
   "id": "03c89b3b-cbd7-4486-85bd-d6fcd6896ab2",
   "metadata": {},
   "source": [
    "* Install Jupyter Lab\n",
    "\n",
    "> conda install -c conda-forge jupyterlab"
   ]
  },
  {
   "cell_type": "markdown",
   "id": "d2d06669-0452-4d8e-b889-26ddc09be151",
   "metadata": {},
   "source": [
    "* Launch Jupyter Lab\n",
    "\n",
    "> jupyter lab"
   ]
  },
  {
   "cell_type": "markdown",
   "id": "16ac2660-3006-4c1f-8193-44068c5aee0a",
   "metadata": {},
   "source": [
    "## 4. 4. Check the software\n",
    "\n",
    "Run the code in the cell below, the output should resemble the output shown"
   ]
  },
  {
   "cell_type": "code",
   "execution_count": 1,
   "id": "44547e2e-8cf2-4973-895c-fb7c6847cb3c",
   "metadata": {},
   "outputs": [
    {
     "name": "stdout",
     "output_type": "stream",
     "text": [
      "\n",
      "Devices:  [PhysicalDevice(name='/physical_device:CPU:0', device_type='CPU'), PhysicalDevice(name='/physical_device:GPU:0', device_type='GPU')]\n"
     ]
    }
   ],
   "source": [
    "import tensorflow as tf\n",
    "devices = tf.config.list_physical_devices()\n",
    "print(\"\\nDevices: \", devices)"
   ]
  },
  {
   "cell_type": "markdown",
   "id": "b2f5ace7-2bf0-43be-a1e4-cc4a53b9c98e",
   "metadata": {},
   "source": [
    "EXPECTED OUTPUT:\n",
    ">Devices:  [PhysicalDevice(name='/physical_device:CPU:0', device_type='CPU'), PhysicalDevice(name='/physical_device:GPU:0', device_type='GPU')]"
   ]
  },
  {
   "cell_type": "code",
   "execution_count": 1,
   "id": "c2545f7f-fd9e-4e05-a1f1-d95fe24703aa",
   "metadata": {},
   "outputs": [
    {
     "name": "stdout",
     "output_type": "stream",
     "text": [
      "TF version: 2.16.1\n"
     ]
    }
   ],
   "source": [
    "import tensorflow as tf\n",
    "\n",
    "version_fn = getattr(tf.keras, \"version\", None)\n",
    "print(\"TF version:\", tf.__version__)"
   ]
  },
  {
   "cell_type": "code",
   "execution_count": 2,
   "id": "955bd4b0-a713-4f47-bd63-2a28ef395699",
   "metadata": {},
   "outputs": [
    {
     "name": "stdout",
     "output_type": "stream",
     "text": [
      "Name: tensorflow-metal\n",
      "Version: 1.1.0\n",
      "Summary: TensorFlow acceleration for Mac GPUs.\n",
      "Home-page: https://developer.apple.com/metal/tensorflow-plugin/\n",
      "Author: \n",
      "Author-email: \n",
      "License: MIT License. Copyright © 2020-2021 Apple Inc. All rights reserved.\n",
      "Location: /Users/jeffsnell/Projects/M3_Apple_Metal_Install_Notes/env/lib/python3.10/site-packages\n",
      "Requires: six, wheel\n",
      "Required-by: \n"
     ]
    }
   ],
   "source": [
    "!pip show tensorflow-metal"
   ]
  },
  {
   "cell_type": "code",
   "execution_count": null,
   "id": "5ada36e7-2fae-4466-8d49-47760726cd2e",
   "metadata": {},
   "outputs": [],
   "source": []
  }
 ],
 "metadata": {
  "kernelspec": {
   "display_name": "Python 3 (ipykernel)",
   "language": "python",
   "name": "python3"
  },
  "language_info": {
   "codemirror_mode": {
    "name": "ipython",
    "version": 3
   },
   "file_extension": ".py",
   "mimetype": "text/x-python",
   "name": "python",
   "nbconvert_exporter": "python",
   "pygments_lexer": "ipython3",
   "version": "3.10.14"
  }
 },
 "nbformat": 4,
 "nbformat_minor": 5
}
